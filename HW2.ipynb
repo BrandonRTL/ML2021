{
 "cells": [
  {
   "cell_type": "code",
   "execution_count": 60,
   "id": "heard-mechanism",
   "metadata": {},
   "outputs": [],
   "source": [
    "import sklearn\n",
    "import sklearn.model_selection\n",
    "import sklearn.neighbors\n",
    "import sklearn.ensemble\n",
    "import numpy as np\n",
    "import pandas as pd\n",
    "import seaborn as sns\n",
    "import matplotlib.pyplot as plt\n",
    "from pandas.plotting import scatter_matrix\n",
    "from sklearn.model_selection import train_test_split\n",
    "from sklearn.neural_network import MLPClassifier\n",
    "from sklearn.metrics import accuracy_score\n",
    "from sklearn.metrics import confusion_matrix\n",
    "%matplotlib inline "
   ]
  },
  {
   "cell_type": "markdown",
   "id": "freelance-sympathy",
   "metadata": {},
   "source": [
    "## Загружаем данные\n"
   ]
  },
  {
   "cell_type": "code",
   "execution_count": 10,
   "id": "changed-tunisia",
   "metadata": {},
   "outputs": [
    {
     "name": "stdout",
     "output_type": "stream",
     "text": [
      "(107125, 49)\n"
     ]
    }
   ],
   "source": [
    "data = pd.read_csv('./Master_Ranked_Games.csv',index_col=[0])\n",
    "data.reset_index(drop=True, inplace=True)\n",
    "print(data.shape)"
   ]
  },
  {
   "cell_type": "code",
   "execution_count": 11,
   "id": "regulated-intake",
   "metadata": {},
   "outputs": [
    {
     "data": {
      "text/html": [
       "<div>\n",
       "<style scoped>\n",
       "    .dataframe tbody tr th:only-of-type {\n",
       "        vertical-align: middle;\n",
       "    }\n",
       "\n",
       "    .dataframe tbody tr th {\n",
       "        vertical-align: top;\n",
       "    }\n",
       "\n",
       "    .dataframe thead th {\n",
       "        text-align: right;\n",
       "    }\n",
       "</style>\n",
       "<table border=\"1\" class=\"dataframe\">\n",
       "  <thead>\n",
       "    <tr style=\"text-align: right;\">\n",
       "      <th></th>\n",
       "      <th>gameDuraton</th>\n",
       "      <th>blueWins</th>\n",
       "      <th>blueFirstBlood</th>\n",
       "      <th>blueFirstTower</th>\n",
       "      <th>blueFirstBaron</th>\n",
       "      <th>blueFirstDragon</th>\n",
       "      <th>blueFirstInhibitor</th>\n",
       "      <th>blueDragonKills</th>\n",
       "      <th>blueBaronKills</th>\n",
       "      <th>blueTowerKills</th>\n",
       "      <th>...</th>\n",
       "      <th>redAssist</th>\n",
       "      <th>redChampionDamageDealt</th>\n",
       "      <th>redTotalGold</th>\n",
       "      <th>redTotalMinionKills</th>\n",
       "      <th>redTotalLevel</th>\n",
       "      <th>redAvgLevel</th>\n",
       "      <th>redJungleMinionKills</th>\n",
       "      <th>redKillingSpree</th>\n",
       "      <th>redTotalHeal</th>\n",
       "      <th>redObjectDamageDealt</th>\n",
       "    </tr>\n",
       "  </thead>\n",
       "  <tbody>\n",
       "    <tr>\n",
       "      <th>0</th>\n",
       "      <td>1429</td>\n",
       "      <td>0</td>\n",
       "      <td>1</td>\n",
       "      <td>1</td>\n",
       "      <td>0</td>\n",
       "      <td>0</td>\n",
       "      <td>0</td>\n",
       "      <td>0</td>\n",
       "      <td>0</td>\n",
       "      <td>4</td>\n",
       "      <td>...</td>\n",
       "      <td>45</td>\n",
       "      <td>53831</td>\n",
       "      <td>41991</td>\n",
       "      <td>609</td>\n",
       "      <td>64</td>\n",
       "      <td>12.8</td>\n",
       "      <td>127</td>\n",
       "      <td>4</td>\n",
       "      <td>12916</td>\n",
       "      <td>26338</td>\n",
       "    </tr>\n",
       "    <tr>\n",
       "      <th>1</th>\n",
       "      <td>1313</td>\n",
       "      <td>0</td>\n",
       "      <td>0</td>\n",
       "      <td>1</td>\n",
       "      <td>0</td>\n",
       "      <td>0</td>\n",
       "      <td>0</td>\n",
       "      <td>0</td>\n",
       "      <td>0</td>\n",
       "      <td>3</td>\n",
       "      <td>...</td>\n",
       "      <td>43</td>\n",
       "      <td>52924</td>\n",
       "      <td>39672</td>\n",
       "      <td>510</td>\n",
       "      <td>63</td>\n",
       "      <td>12.6</td>\n",
       "      <td>133</td>\n",
       "      <td>4</td>\n",
       "      <td>12252</td>\n",
       "      <td>29828</td>\n",
       "    </tr>\n",
       "    <tr>\n",
       "      <th>2</th>\n",
       "      <td>1660</td>\n",
       "      <td>1</td>\n",
       "      <td>0</td>\n",
       "      <td>0</td>\n",
       "      <td>1</td>\n",
       "      <td>1</td>\n",
       "      <td>1</td>\n",
       "      <td>1</td>\n",
       "      <td>1</td>\n",
       "      <td>9</td>\n",
       "      <td>...</td>\n",
       "      <td>22</td>\n",
       "      <td>61745</td>\n",
       "      <td>46516</td>\n",
       "      <td>630</td>\n",
       "      <td>65</td>\n",
       "      <td>13.0</td>\n",
       "      <td>153</td>\n",
       "      <td>2</td>\n",
       "      <td>17005</td>\n",
       "      <td>37066</td>\n",
       "    </tr>\n",
       "    <tr>\n",
       "      <th>3</th>\n",
       "      <td>984</td>\n",
       "      <td>1</td>\n",
       "      <td>1</td>\n",
       "      <td>1</td>\n",
       "      <td>0</td>\n",
       "      <td>1</td>\n",
       "      <td>0</td>\n",
       "      <td>2</td>\n",
       "      <td>0</td>\n",
       "      <td>5</td>\n",
       "      <td>...</td>\n",
       "      <td>5</td>\n",
       "      <td>25007</td>\n",
       "      <td>21444</td>\n",
       "      <td>304</td>\n",
       "      <td>41</td>\n",
       "      <td>8.2</td>\n",
       "      <td>51</td>\n",
       "      <td>1</td>\n",
       "      <td>10499</td>\n",
       "      <td>3085</td>\n",
       "    </tr>\n",
       "    <tr>\n",
       "      <th>4</th>\n",
       "      <td>1437</td>\n",
       "      <td>0</td>\n",
       "      <td>1</td>\n",
       "      <td>1</td>\n",
       "      <td>0</td>\n",
       "      <td>1</td>\n",
       "      <td>0</td>\n",
       "      <td>2</td>\n",
       "      <td>0</td>\n",
       "      <td>3</td>\n",
       "      <td>...</td>\n",
       "      <td>39</td>\n",
       "      <td>71794</td>\n",
       "      <td>45798</td>\n",
       "      <td>565</td>\n",
       "      <td>68</td>\n",
       "      <td>13.6</td>\n",
       "      <td>150</td>\n",
       "      <td>7</td>\n",
       "      <td>47523</td>\n",
       "      <td>47150</td>\n",
       "    </tr>\n",
       "  </tbody>\n",
       "</table>\n",
       "<p>5 rows × 49 columns</p>\n",
       "</div>"
      ],
      "text/plain": [
       "   gameDuraton  blueWins  blueFirstBlood  blueFirstTower  blueFirstBaron  \\\n",
       "0         1429         0               1               1               0   \n",
       "1         1313         0               0               1               0   \n",
       "2         1660         1               0               0               1   \n",
       "3          984         1               1               1               0   \n",
       "4         1437         0               1               1               0   \n",
       "\n",
       "   blueFirstDragon  blueFirstInhibitor  blueDragonKills  blueBaronKills  \\\n",
       "0                0                   0                0               0   \n",
       "1                0                   0                0               0   \n",
       "2                1                   1                1               1   \n",
       "3                1                   0                2               0   \n",
       "4                1                   0                2               0   \n",
       "\n",
       "   blueTowerKills  ...  redAssist  redChampionDamageDealt  redTotalGold  \\\n",
       "0               4  ...         45                   53831         41991   \n",
       "1               3  ...         43                   52924         39672   \n",
       "2               9  ...         22                   61745         46516   \n",
       "3               5  ...          5                   25007         21444   \n",
       "4               3  ...         39                   71794         45798   \n",
       "\n",
       "   redTotalMinionKills  redTotalLevel  redAvgLevel  redJungleMinionKills  \\\n",
       "0                  609             64         12.8                   127   \n",
       "1                  510             63         12.6                   133   \n",
       "2                  630             65         13.0                   153   \n",
       "3                  304             41          8.2                    51   \n",
       "4                  565             68         13.6                   150   \n",
       "\n",
       "   redKillingSpree  redTotalHeal  redObjectDamageDealt  \n",
       "0                4         12916                 26338  \n",
       "1                4         12252                 29828  \n",
       "2                2         17005                 37066  \n",
       "3                1         10499                  3085  \n",
       "4                7         47523                 47150  \n",
       "\n",
       "[5 rows x 49 columns]"
      ]
     },
     "execution_count": 11,
     "metadata": {},
     "output_type": "execute_result"
    }
   ],
   "source": [
    "data.head()"
   ]
  },
  {
   "cell_type": "code",
   "execution_count": 14,
   "id": "complete-macedonia",
   "metadata": {},
   "outputs": [
    {
     "data": {
      "text/html": [
       "<div>\n",
       "<style scoped>\n",
       "    .dataframe tbody tr th:only-of-type {\n",
       "        vertical-align: middle;\n",
       "    }\n",
       "\n",
       "    .dataframe tbody tr th {\n",
       "        vertical-align: top;\n",
       "    }\n",
       "\n",
       "    .dataframe thead th {\n",
       "        text-align: right;\n",
       "    }\n",
       "</style>\n",
       "<table border=\"1\" class=\"dataframe\">\n",
       "  <thead>\n",
       "    <tr style=\"text-align: right;\">\n",
       "      <th></th>\n",
       "      <th>gameDuraton</th>\n",
       "      <th>blueWins</th>\n",
       "      <th>blueFirstBlood</th>\n",
       "      <th>blueFirstTower</th>\n",
       "      <th>blueFirstBaron</th>\n",
       "      <th>blueFirstDragon</th>\n",
       "      <th>blueFirstInhibitor</th>\n",
       "      <th>blueDragonKills</th>\n",
       "      <th>blueBaronKills</th>\n",
       "      <th>blueTowerKills</th>\n",
       "      <th>...</th>\n",
       "      <th>redDeath</th>\n",
       "      <th>redAssist</th>\n",
       "      <th>redChampionDamageDealt</th>\n",
       "      <th>redTotalGold</th>\n",
       "      <th>redTotalMinionKills</th>\n",
       "      <th>redTotalLevel</th>\n",
       "      <th>redJungleMinionKills</th>\n",
       "      <th>redKillingSpree</th>\n",
       "      <th>redTotalHeal</th>\n",
       "      <th>redObjectDamageDealt</th>\n",
       "    </tr>\n",
       "  </thead>\n",
       "  <tbody>\n",
       "    <tr>\n",
       "      <th>0</th>\n",
       "      <td>1429</td>\n",
       "      <td>0</td>\n",
       "      <td>1</td>\n",
       "      <td>1</td>\n",
       "      <td>0</td>\n",
       "      <td>0</td>\n",
       "      <td>0</td>\n",
       "      <td>0</td>\n",
       "      <td>0</td>\n",
       "      <td>4</td>\n",
       "      <td>...</td>\n",
       "      <td>7</td>\n",
       "      <td>45</td>\n",
       "      <td>53831</td>\n",
       "      <td>41991</td>\n",
       "      <td>609</td>\n",
       "      <td>64</td>\n",
       "      <td>127</td>\n",
       "      <td>4</td>\n",
       "      <td>12916</td>\n",
       "      <td>26338</td>\n",
       "    </tr>\n",
       "    <tr>\n",
       "      <th>1</th>\n",
       "      <td>1313</td>\n",
       "      <td>0</td>\n",
       "      <td>0</td>\n",
       "      <td>1</td>\n",
       "      <td>0</td>\n",
       "      <td>0</td>\n",
       "      <td>0</td>\n",
       "      <td>0</td>\n",
       "      <td>0</td>\n",
       "      <td>3</td>\n",
       "      <td>...</td>\n",
       "      <td>6</td>\n",
       "      <td>43</td>\n",
       "      <td>52924</td>\n",
       "      <td>39672</td>\n",
       "      <td>510</td>\n",
       "      <td>63</td>\n",
       "      <td>133</td>\n",
       "      <td>4</td>\n",
       "      <td>12252</td>\n",
       "      <td>29828</td>\n",
       "    </tr>\n",
       "    <tr>\n",
       "      <th>2</th>\n",
       "      <td>1660</td>\n",
       "      <td>1</td>\n",
       "      <td>0</td>\n",
       "      <td>0</td>\n",
       "      <td>1</td>\n",
       "      <td>1</td>\n",
       "      <td>1</td>\n",
       "      <td>1</td>\n",
       "      <td>1</td>\n",
       "      <td>9</td>\n",
       "      <td>...</td>\n",
       "      <td>30</td>\n",
       "      <td>22</td>\n",
       "      <td>61745</td>\n",
       "      <td>46516</td>\n",
       "      <td>630</td>\n",
       "      <td>65</td>\n",
       "      <td>153</td>\n",
       "      <td>2</td>\n",
       "      <td>17005</td>\n",
       "      <td>37066</td>\n",
       "    </tr>\n",
       "    <tr>\n",
       "      <th>3</th>\n",
       "      <td>984</td>\n",
       "      <td>1</td>\n",
       "      <td>1</td>\n",
       "      <td>1</td>\n",
       "      <td>0</td>\n",
       "      <td>1</td>\n",
       "      <td>0</td>\n",
       "      <td>2</td>\n",
       "      <td>0</td>\n",
       "      <td>5</td>\n",
       "      <td>...</td>\n",
       "      <td>26</td>\n",
       "      <td>5</td>\n",
       "      <td>25007</td>\n",
       "      <td>21444</td>\n",
       "      <td>304</td>\n",
       "      <td>41</td>\n",
       "      <td>51</td>\n",
       "      <td>1</td>\n",
       "      <td>10499</td>\n",
       "      <td>3085</td>\n",
       "    </tr>\n",
       "    <tr>\n",
       "      <th>4</th>\n",
       "      <td>1437</td>\n",
       "      <td>0</td>\n",
       "      <td>1</td>\n",
       "      <td>1</td>\n",
       "      <td>0</td>\n",
       "      <td>1</td>\n",
       "      <td>0</td>\n",
       "      <td>2</td>\n",
       "      <td>0</td>\n",
       "      <td>3</td>\n",
       "      <td>...</td>\n",
       "      <td>19</td>\n",
       "      <td>39</td>\n",
       "      <td>71794</td>\n",
       "      <td>45798</td>\n",
       "      <td>565</td>\n",
       "      <td>68</td>\n",
       "      <td>150</td>\n",
       "      <td>7</td>\n",
       "      <td>47523</td>\n",
       "      <td>47150</td>\n",
       "    </tr>\n",
       "    <tr>\n",
       "      <th>...</th>\n",
       "      <td>...</td>\n",
       "      <td>...</td>\n",
       "      <td>...</td>\n",
       "      <td>...</td>\n",
       "      <td>...</td>\n",
       "      <td>...</td>\n",
       "      <td>...</td>\n",
       "      <td>...</td>\n",
       "      <td>...</td>\n",
       "      <td>...</td>\n",
       "      <td>...</td>\n",
       "      <td>...</td>\n",
       "      <td>...</td>\n",
       "      <td>...</td>\n",
       "      <td>...</td>\n",
       "      <td>...</td>\n",
       "      <td>...</td>\n",
       "      <td>...</td>\n",
       "      <td>...</td>\n",
       "      <td>...</td>\n",
       "      <td>...</td>\n",
       "    </tr>\n",
       "    <tr>\n",
       "      <th>107120</th>\n",
       "      <td>2479</td>\n",
       "      <td>1</td>\n",
       "      <td>1</td>\n",
       "      <td>0</td>\n",
       "      <td>0</td>\n",
       "      <td>0</td>\n",
       "      <td>0</td>\n",
       "      <td>3</td>\n",
       "      <td>1</td>\n",
       "      <td>7</td>\n",
       "      <td>...</td>\n",
       "      <td>42</td>\n",
       "      <td>41</td>\n",
       "      <td>149798</td>\n",
       "      <td>72167</td>\n",
       "      <td>789</td>\n",
       "      <td>86</td>\n",
       "      <td>258</td>\n",
       "      <td>6</td>\n",
       "      <td>34890</td>\n",
       "      <td>62124</td>\n",
       "    </tr>\n",
       "    <tr>\n",
       "      <th>107121</th>\n",
       "      <td>932</td>\n",
       "      <td>0</td>\n",
       "      <td>0</td>\n",
       "      <td>0</td>\n",
       "      <td>0</td>\n",
       "      <td>0</td>\n",
       "      <td>0</td>\n",
       "      <td>0</td>\n",
       "      <td>0</td>\n",
       "      <td>0</td>\n",
       "      <td>...</td>\n",
       "      <td>5</td>\n",
       "      <td>26</td>\n",
       "      <td>37534</td>\n",
       "      <td>32931</td>\n",
       "      <td>364</td>\n",
       "      <td>51</td>\n",
       "      <td>110</td>\n",
       "      <td>5</td>\n",
       "      <td>11983</td>\n",
       "      <td>31400</td>\n",
       "    </tr>\n",
       "    <tr>\n",
       "      <th>107122</th>\n",
       "      <td>2081</td>\n",
       "      <td>0</td>\n",
       "      <td>1</td>\n",
       "      <td>1</td>\n",
       "      <td>0</td>\n",
       "      <td>0</td>\n",
       "      <td>0</td>\n",
       "      <td>1</td>\n",
       "      <td>0</td>\n",
       "      <td>6</td>\n",
       "      <td>...</td>\n",
       "      <td>25</td>\n",
       "      <td>68</td>\n",
       "      <td>97369</td>\n",
       "      <td>71576</td>\n",
       "      <td>797</td>\n",
       "      <td>85</td>\n",
       "      <td>222</td>\n",
       "      <td>8</td>\n",
       "      <td>33499</td>\n",
       "      <td>79612</td>\n",
       "    </tr>\n",
       "    <tr>\n",
       "      <th>107123</th>\n",
       "      <td>1619</td>\n",
       "      <td>0</td>\n",
       "      <td>0</td>\n",
       "      <td>0</td>\n",
       "      <td>0</td>\n",
       "      <td>0</td>\n",
       "      <td>0</td>\n",
       "      <td>1</td>\n",
       "      <td>0</td>\n",
       "      <td>2</td>\n",
       "      <td>...</td>\n",
       "      <td>23</td>\n",
       "      <td>68</td>\n",
       "      <td>116262</td>\n",
       "      <td>59001</td>\n",
       "      <td>524</td>\n",
       "      <td>72</td>\n",
       "      <td>162</td>\n",
       "      <td>11</td>\n",
       "      <td>52292</td>\n",
       "      <td>60903</td>\n",
       "    </tr>\n",
       "    <tr>\n",
       "      <th>107124</th>\n",
       "      <td>1129</td>\n",
       "      <td>1</td>\n",
       "      <td>0</td>\n",
       "      <td>1</td>\n",
       "      <td>0</td>\n",
       "      <td>0</td>\n",
       "      <td>1</td>\n",
       "      <td>1</td>\n",
       "      <td>0</td>\n",
       "      <td>6</td>\n",
       "      <td>...</td>\n",
       "      <td>17</td>\n",
       "      <td>4</td>\n",
       "      <td>33263</td>\n",
       "      <td>26963</td>\n",
       "      <td>423</td>\n",
       "      <td>47</td>\n",
       "      <td>71</td>\n",
       "      <td>1</td>\n",
       "      <td>12749</td>\n",
       "      <td>8035</td>\n",
       "    </tr>\n",
       "  </tbody>\n",
       "</table>\n",
       "<p>107125 rows × 43 columns</p>\n",
       "</div>"
      ],
      "text/plain": [
       "        gameDuraton  blueWins  blueFirstBlood  blueFirstTower  blueFirstBaron  \\\n",
       "0              1429         0               1               1               0   \n",
       "1              1313         0               0               1               0   \n",
       "2              1660         1               0               0               1   \n",
       "3               984         1               1               1               0   \n",
       "4              1437         0               1               1               0   \n",
       "...             ...       ...             ...             ...             ...   \n",
       "107120         2479         1               1               0               0   \n",
       "107121          932         0               0               0               0   \n",
       "107122         2081         0               1               1               0   \n",
       "107123         1619         0               0               0               0   \n",
       "107124         1129         1               0               1               0   \n",
       "\n",
       "        blueFirstDragon  blueFirstInhibitor  blueDragonKills  blueBaronKills  \\\n",
       "0                     0                   0                0               0   \n",
       "1                     0                   0                0               0   \n",
       "2                     1                   1                1               1   \n",
       "3                     1                   0                2               0   \n",
       "4                     1                   0                2               0   \n",
       "...                 ...                 ...              ...             ...   \n",
       "107120                0                   0                3               1   \n",
       "107121                0                   0                0               0   \n",
       "107122                0                   0                1               0   \n",
       "107123                0                   0                1               0   \n",
       "107124                0                   1                1               0   \n",
       "\n",
       "        blueTowerKills  ...  redDeath  redAssist  redChampionDamageDealt  \\\n",
       "0                    4  ...         7         45                   53831   \n",
       "1                    3  ...         6         43                   52924   \n",
       "2                    9  ...        30         22                   61745   \n",
       "3                    5  ...        26          5                   25007   \n",
       "4                    3  ...        19         39                   71794   \n",
       "...                ...  ...       ...        ...                     ...   \n",
       "107120               7  ...        42         41                  149798   \n",
       "107121               0  ...         5         26                   37534   \n",
       "107122               6  ...        25         68                   97369   \n",
       "107123               2  ...        23         68                  116262   \n",
       "107124               6  ...        17          4                   33263   \n",
       "\n",
       "        redTotalGold  redTotalMinionKills  redTotalLevel  \\\n",
       "0              41991                  609             64   \n",
       "1              39672                  510             63   \n",
       "2              46516                  630             65   \n",
       "3              21444                  304             41   \n",
       "4              45798                  565             68   \n",
       "...              ...                  ...            ...   \n",
       "107120         72167                  789             86   \n",
       "107121         32931                  364             51   \n",
       "107122         71576                  797             85   \n",
       "107123         59001                  524             72   \n",
       "107124         26963                  423             47   \n",
       "\n",
       "        redJungleMinionKills  redKillingSpree  redTotalHeal  \\\n",
       "0                        127                4         12916   \n",
       "1                        133                4         12252   \n",
       "2                        153                2         17005   \n",
       "3                         51                1         10499   \n",
       "4                        150                7         47523   \n",
       "...                      ...              ...           ...   \n",
       "107120                   258                6         34890   \n",
       "107121                   110                5         11983   \n",
       "107122                   222                8         33499   \n",
       "107123                   162               11         52292   \n",
       "107124                    71                1         12749   \n",
       "\n",
       "        redObjectDamageDealt  \n",
       "0                      26338  \n",
       "1                      29828  \n",
       "2                      37066  \n",
       "3                       3085  \n",
       "4                      47150  \n",
       "...                      ...  \n",
       "107120                 62124  \n",
       "107121                 31400  \n",
       "107122                 79612  \n",
       "107123                 60903  \n",
       "107124                  8035  \n",
       "\n",
       "[107125 rows x 43 columns]"
      ]
     },
     "execution_count": 14,
     "metadata": {},
     "output_type": "execute_result"
    }
   ],
   "source": [
    "new_data = data.drop(columns=['redWins', 'redFirstBlood', 'redFirstTower', 'redFirstDragon', 'blueAvgLevel', 'redAvgLevel'])\n",
    "new_data"
   ]
  },
  {
   "cell_type": "code",
   "execution_count": 18,
   "id": "final-prerequisite",
   "metadata": {},
   "outputs": [],
   "source": [
    "data_norm = (new_data - new_data.mean(axis = 0)) / new_data.std(axis = 0)"
   ]
  },
  {
   "cell_type": "markdown",
   "id": "circular-defense",
   "metadata": {},
   "source": [
    "## Выборка"
   ]
  },
  {
   "cell_type": "code",
   "execution_count": 20,
   "id": "plastic-timer",
   "metadata": {},
   "outputs": [],
   "source": [
    "x = data_norm.drop(['blueWins'], axis=1)\n",
    "y = data['blueWins']\n",
    "x_train, x_test, y_train, y_test = sklearn.model_selection.train_test_split(x, y, test_size=0.25, random_state=42)"
   ]
  },
  {
   "cell_type": "markdown",
   "id": "enabling-participant",
   "metadata": {},
   "source": [
    "## Обучаем классификатор \n"
   ]
  },
  {
   "cell_type": "code",
   "execution_count": 24,
   "id": "instrumental-grace",
   "metadata": {},
   "outputs": [],
   "source": [
    "mlp_model = MLPClassifier(hidden_layer_sizes = (13,),\n",
    "                          solver = 'lbfgs', \n",
    "                          activation = 'logistic',\n",
    "                          random_state = 42)"
   ]
  },
  {
   "cell_type": "code",
   "execution_count": 26,
   "id": "coated-agreement",
   "metadata": {},
   "outputs": [
    {
     "name": "stdout",
     "output_type": "stream",
     "text": [
      "Wall time: 7.56 s\n"
     ]
    },
    {
     "data": {
      "text/plain": [
       "MLPClassifier(activation='logistic', hidden_layer_sizes=(13,), random_state=42,\n",
       "              solver='lbfgs')"
      ]
     },
     "execution_count": 26,
     "metadata": {},
     "output_type": "execute_result"
    }
   ],
   "source": [
    "%%time\n",
    "mlp_model.fit(x_train, y_train)"
   ]
  },
  {
   "cell_type": "markdown",
   "id": "broadband-laundry",
   "metadata": {},
   "source": [
    "## Качество"
   ]
  },
  {
   "cell_type": "code",
   "execution_count": 42,
   "id": "economic-ghost",
   "metadata": {},
   "outputs": [
    {
     "name": "stdout",
     "output_type": "stream",
     "text": [
      "1 1\n"
     ]
    }
   ],
   "source": [
    "n = 26785\n",
    "print(y_test[n],mlp_model.predict([x_test.loc[n,:]])[0])"
   ]
  },
  {
   "cell_type": "code",
   "execution_count": 43,
   "id": "simple-garlic",
   "metadata": {},
   "outputs": [
    {
     "name": "stdout",
     "output_type": "stream",
     "text": [
      "0 0\n"
     ]
    }
   ],
   "source": [
    "n = 10501\n",
    "print(y_test[n],mlp_model.predict([x_test.loc[n,:]])[0])"
   ]
  },
  {
   "cell_type": "code",
   "execution_count": 45,
   "id": "prepared-booking",
   "metadata": {},
   "outputs": [],
   "source": [
    "y_train_pred = mlp_model.predict(x_train)\n",
    "y_test_pred = mlp_model.predict(x_test)\n"
   ]
  },
  {
   "cell_type": "code",
   "execution_count": 46,
   "id": "surrounded-detector",
   "metadata": {},
   "outputs": [
    {
     "name": "stdout",
     "output_type": "stream",
     "text": [
      "0.005588539138443921 0.008625196027182437\n"
     ]
    }
   ],
   "source": [
    "print(np.mean(y_train != y_train_pred), np.mean(y_test != y_test_pred))"
   ]
  },
  {
   "cell_type": "markdown",
   "id": "awful-disease",
   "metadata": {},
   "source": [
    "## Подбор _гипер_параметров\n"
   ]
  },
  {
   "cell_type": "code",
   "execution_count": 51,
   "id": "athletic-monte",
   "metadata": {},
   "outputs": [],
   "source": [
    "alpha_arr = np.logspace(-3, 2, 21)\n",
    "test_err = []\n",
    "train_err = []\n",
    "train_acc = []\n",
    "test_acc = []\n",
    "\n",
    "for alpha in alpha_arr:\n",
    "    mlp_model = MLPClassifier(alpha = alpha, hidden_layer_sizes = (13,), \n",
    "                              solver = 'lbfgs', activation = 'logistic', max_iter=1000, random_state = 42)\n",
    "    mlp_model.fit(x_train, y_train)\n",
    "\n",
    "    y_train_pred = mlp_model.predict(x_train)\n",
    "    y_test_pred = mlp_model.predict(x_test)\n",
    "    \n",
    "    train_err.append(np.mean(y_train != y_train_pred))\n",
    "    test_err.append(np.mean(y_test != y_test_pred))\n",
    "    train_acc.append(accuracy_score(y_train, y_train_pred))\n",
    "    test_acc.append(accuracy_score(y_test, y_test_pred))"
   ]
  },
  {
   "cell_type": "code",
   "execution_count": 52,
   "id": "dutch-republic",
   "metadata": {},
   "outputs": [
    {
     "data": {
      "text/plain": [
       "<matplotlib.legend.Legend at 0x160b26b4208>"
      ]
     },
     "execution_count": 52,
     "metadata": {},
     "output_type": "execute_result"
    },
    {
     "data": {
      "image/png": "[encoded data removed]",
      "text/plain": [
       "<Figure size 432x288 with 1 Axes>"
      ]
     },
     "metadata": {
      "needs_background": "light"
     },
     "output_type": "display_data"
    }
   ],
   "source": [
    "plt.semilogx(alpha_arr, train_err, 'b-o', label = 'train')\n",
    "plt.semilogx(alpha_arr, test_err, 'r-o', label = 'test')\n",
    "plt.xlim([np.min(alpha_arr), np.max(alpha_arr)])\n",
    "plt.title('Error vs. alpha')\n",
    "plt.xlabel('alpha')\n",
    "plt.ylabel('error')\n",
    "plt.legend()"
   ]
  },
  {
   "cell_type": "code",
   "execution_count": 53,
   "id": "helpful-crest",
   "metadata": {},
   "outputs": [
    {
     "data": {
      "text/plain": [
       "<matplotlib.legend.Legend at 0x160b28730c8>"
      ]
     },
     "execution_count": 53,
     "metadata": {},
     "output_type": "execute_result"
    },
    {
     "data": {
      "image/png": "[encoded data removed]",
      "text/plain": [
       "<Figure size 432x288 with 1 Axes>"
      ]
     },
     "metadata": {
      "needs_background": "light"
     },
     "output_type": "display_data"
    }
   ],
   "source": [
    "plt.semilogx(alpha_arr, train_acc, 'r-o', label = 'train')\n",
    "plt.semilogx(alpha_arr, test_acc, 'b-o', label = 'test')\n",
    "plt.xlim([np.min(alpha_arr), np.max(alpha_arr)])\n",
    "plt.title('Accuracy vs. alpha')\n",
    "plt.xlabel('alpha')\n",
    "plt.ylabel('Accuracy')\n",
    "plt.legend()"
   ]
  },
  {
   "cell_type": "code",
   "execution_count": 54,
   "id": "geological-lithuania",
   "metadata": {},
   "outputs": [
    {
     "name": "stdout",
     "output_type": "stream",
     "text": [
      "0.005065780466250949 0.007841087297438577\n"
     ]
    }
   ],
   "source": [
    "min_train_err = np.min(train_err)\n",
    "min_test_err = np.min(test_err)\n",
    "print(min_train_err, min_test_err)"
   ]
  },
  {
   "cell_type": "code",
   "execution_count": 55,
   "id": "preceding-counter",
   "metadata": {},
   "outputs": [
    {
     "name": "stdout",
     "output_type": "stream",
     "text": [
      "[3.16227766]\n"
     ]
    }
   ],
   "source": [
    "alpha_opt = alpha_arr[test_err == min_test_err]\n",
    "print(alpha_opt) "
   ]
  },
  {
   "cell_type": "code",
   "execution_count": 56,
   "id": "collectible-olympus",
   "metadata": {},
   "outputs": [],
   "source": [
    "alpha_opt = alpha_opt[0]"
   ]
  },
  {
   "cell_type": "markdown",
   "id": "passive-harvard",
   "metadata": {},
   "source": [
    "## Классификатор при найденном оптимальном значении"
   ]
  },
  {
   "cell_type": "code",
   "execution_count": 59,
   "id": "rural-insulation",
   "metadata": {},
   "outputs": [
    {
     "name": "stdout",
     "output_type": "stream",
     "text": [
      "0.0061237444456891076\n",
      "0.007841087297438577\n"
     ]
    }
   ],
   "source": [
    "mlp_model = MLPClassifier(alpha = alpha_opt, hidden_layer_sizes = (13,),\n",
    "                          solver = 'lbfgs', activation = 'logistic', random_state = 42)\n",
    "mlp_model.fit(x_train, y_train)\n",
    "\n",
    "y_train_pred = mlp_model.predict(x_train)\n",
    "y_test_pred = mlp_model.predict(x_test)\n",
    "print(np.mean(y_train != y_train_pred))\n",
    "print(np.mean(y_test != y_test_pred))"
   ]
  },
  {
   "cell_type": "markdown",
   "id": "hindu-plymouth",
   "metadata": {},
   "source": [
    "## Матрица рассогласования\n"
   ]
  },
  {
   "cell_type": "code",
   "execution_count": 61,
   "id": "consistent-nudist",
   "metadata": {},
   "outputs": [
    {
     "name": "stdout",
     "output_type": "stream",
     "text": [
      "[[13456   110]\n",
      " [  100 13116]]\n"
     ]
    }
   ],
   "source": [
    "print(confusion_matrix(y_test_pred, y_test))"
   ]
  },
  {
   "cell_type": "code",
   "execution_count": 62,
   "id": "infrared-basic",
   "metadata": {},
   "outputs": [
    {
     "data": {
      "image/png": "[encoded data removed]",
      "text/plain": [
       "<Figure size 432x288 with 2 Axes>"
      ]
     },
     "metadata": {
      "needs_background": "light"
     },
     "output_type": "display_data"
    }
   ],
   "source": [
    "M = confusion_matrix(y_test_pred, y_test)\n",
    "M = np.sqrt(M)\n",
    "plt.imshow(M, interpolation = 'nearest')\n",
    "plt.set_cmap('binary')\n",
    "plt.xticks(range(2))\n",
    "plt.yticks(range(2))\n",
    "plt.xlabel(\"true label\")\n",
    "plt.ylabel(\"predicted label\")\n",
    "plt.colorbar()\n",
    "pass"
   ]
  },
  {
   "cell_type": "code",
   "execution_count": 63,
   "id": "pleased-completion",
   "metadata": {},
   "outputs": [
    {
     "data": {
      "text/plain": [
       "<sklearn.metrics._plot.confusion_matrix.ConfusionMatrixDisplay at 0x160bbe74708>"
      ]
     },
     "execution_count": 63,
     "metadata": {},
     "output_type": "execute_result"
    },
    {
     "data": {
      "image/png": "[encoded data removed]",
      "text/plain": [
       "<Figure size 432x288 with 2 Axes>"
      ]
     },
     "metadata": {
      "needs_background": "light"
     },
     "output_type": "display_data"
    }
   ],
   "source": [
    "from sklearn.metrics import plot_confusion_matrix\n",
    "plot_confusion_matrix(mlp_model, x_test, y_test) "
   ]
  },
  {
   "cell_type": "code",
   "execution_count": null,
   "id": "intense-mississippi",
   "metadata": {},
   "outputs": [],
   "source": []
  }
 ],
 "metadata": {
  "kernelspec": {
   "display_name": "Python 3",
   "language": "python",
   "name": "python3"
  },
  "language_info": {
   "codemirror_mode": {
    "name": "ipython",
    "version": 3
   },
   "file_extension": ".py",
   "mimetype": "text/x-python",
   "name": "python",
   "nbconvert_exporter": "python",
   "pygments_lexer": "ipython3",
   "version": "3.7.6"
  }
 },
 "nbformat": 4,
 "nbformat_minor": 5
}
